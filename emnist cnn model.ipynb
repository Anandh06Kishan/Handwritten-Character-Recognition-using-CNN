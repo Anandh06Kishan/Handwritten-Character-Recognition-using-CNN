{
 "cells": [
  {
   "cell_type": "markdown",
   "metadata": {
    "collapsed": true
   },
   "source": [
    "# Loading EMNIST dataset"
   ]
  },
  {
   "cell_type": "code",
   "execution_count": 8,
   "metadata": {
    "collapsed": true
   },
   "outputs": [],
   "source": [
    "import time\n",
    "import warnings\n",
    "warnings.filterwarnings('ignore')\n",
    "from mnist import MNIST #this is for loading emnist as input data\n",
    "import tensorflow as tf\n",
    "import matplotlib.pyplot as plt\n",
    "import numpy as np\n",
    "import pandas as pd"
   ]
  },
  {
   "cell_type": "code",
   "execution_count": 9,
   "metadata": {
    "collapsed": true
   },
   "outputs": [],
   "source": [
    "emnist = MNIST('C:\\\\Users\\\\Anandh\\\\Anaconda3\\\\final year project\\emnist_data')\n",
    "emnist.select_emnist('balanced')\n",
    "\n",
    "images,labels = emnist.load_training()\n",
    "testIM,testLAB = emnist.load_testing()"
   ]
  },
  {
   "cell_type": "code",
   "execution_count": 10,
   "metadata": {
    "collapsed": true
   },
   "outputs": [],
   "source": [
    "n_images = np.array(images)\n",
    "n_labels = np.array(labels)\n",
    "testIM = np.array(testIM)\n",
    "testLAB = np.array(testLAB)"
   ]
  },
  {
   "cell_type": "markdown",
   "metadata": {},
   "source": [
    "## Visualizing the dataset"
   ]
  },
  {
   "cell_type": "code",
   "execution_count": 11,
   "metadata": {},
   "outputs": [
    {
     "ename": "NameError",
     "evalue": "name 'test_images' is not defined",
     "output_type": "error",
     "traceback": [
      "\u001b[1;31m---------------------------------------------------------------------------\u001b[0m",
      "\u001b[1;31mNameError\u001b[0m                                 Traceback (most recent call last)",
      "\u001b[1;32m<ipython-input-11-140b08615015>\u001b[0m in \u001b[0;36m<module>\u001b[1;34m()\u001b[0m\n\u001b[1;32m----> 1\u001b[1;33m \u001b[0mn_images1\u001b[0m \u001b[1;33m=\u001b[0m \u001b[0mtest_images\u001b[0m\u001b[1;33m[\u001b[0m\u001b[1;36m19000\u001b[0m\u001b[1;33m]\u001b[0m\u001b[1;33m.\u001b[0m\u001b[0mreshape\u001b[0m\u001b[1;33m(\u001b[0m\u001b[1;36m28\u001b[0m\u001b[1;33m,\u001b[0m\u001b[1;36m28\u001b[0m\u001b[1;33m)\u001b[0m\u001b[1;33m\u001b[0m\u001b[0m\n\u001b[0m",
      "\u001b[1;31mNameError\u001b[0m: name 'test_images' is not defined"
     ]
    }
   ],
   "source": [
    "n_images1 = test_images[19000].reshape(28,28)"
   ]
  },
  {
   "cell_type": "code",
   "execution_count": 12,
   "metadata": {},
   "outputs": [
    {
     "ename": "NameError",
     "evalue": "name 'n_images1' is not defined",
     "output_type": "error",
     "traceback": [
      "\u001b[1;31m---------------------------------------------------------------------------\u001b[0m",
      "\u001b[1;31mNameError\u001b[0m                                 Traceback (most recent call last)",
      "\u001b[1;32m<ipython-input-12-148464fa1ce9>\u001b[0m in \u001b[0;36m<module>\u001b[1;34m()\u001b[0m\n\u001b[1;32m----> 1\u001b[1;33m \u001b[0mplt\u001b[0m\u001b[1;33m.\u001b[0m\u001b[0mimshow\u001b[0m\u001b[1;33m(\u001b[0m\u001b[0mn_images1\u001b[0m\u001b[1;33m,\u001b[0m\u001b[0mcmap\u001b[0m\u001b[1;33m=\u001b[0m\u001b[1;34m'gist_gray'\u001b[0m\u001b[1;33m)\u001b[0m\u001b[1;33m\u001b[0m\u001b[0m\n\u001b[0m\u001b[0;32m      2\u001b[0m \u001b[0mplt\u001b[0m\u001b[1;33m.\u001b[0m\u001b[0mshow\u001b[0m\u001b[1;33m(\u001b[0m\u001b[1;33m)\u001b[0m\u001b[1;33m\u001b[0m\u001b[0m\n",
      "\u001b[1;31mNameError\u001b[0m: name 'n_images1' is not defined"
     ]
    }
   ],
   "source": [
    "plt.imshow(n_images1,cmap='gist_gray')\n",
    "plt.show()"
   ]
  },
  {
   "cell_type": "markdown",
   "metadata": {},
   "source": [
    "## Fitting data between 0 and 1"
   ]
  },
  {
   "cell_type": "code",
   "execution_count": 13,
   "metadata": {},
   "outputs": [
    {
     "data": {
      "text/plain": [
       "207"
      ]
     },
     "execution_count": 13,
     "metadata": {},
     "output_type": "execute_result"
    }
   ],
   "source": [
    "n_images[0][455]"
   ]
  },
  {
   "cell_type": "code",
   "execution_count": 14,
   "metadata": {
    "collapsed": true
   },
   "outputs": [],
   "source": [
    "from sklearn.preprocessing import MinMaxScaler\n",
    "scaler = MinMaxScaler()\n",
    "scaler.fit(n_images)\n",
    "train_images = scaler.transform(n_images)"
   ]
  },
  {
   "cell_type": "code",
   "execution_count": 15,
   "metadata": {},
   "outputs": [
    {
     "data": {
      "text/plain": [
       "0.8117647058823529"
      ]
     },
     "execution_count": 15,
     "metadata": {},
     "output_type": "execute_result"
    }
   ],
   "source": [
    "train_images[0][455]"
   ]
  },
  {
   "cell_type": "code",
   "execution_count": 16,
   "metadata": {
    "collapsed": true
   },
   "outputs": [],
   "source": [
    "scaler.fit(testIM)\n",
    "test_images = scaler.transform(testIM)"
   ]
  },
  {
   "cell_type": "code",
   "execution_count": 17,
   "metadata": {},
   "outputs": [
    {
     "data": {
      "text/plain": [
       "19"
      ]
     },
     "execution_count": 17,
     "metadata": {},
     "output_type": "execute_result"
    }
   ],
   "source": [
    "testIM[0][567]"
   ]
  },
  {
   "cell_type": "code",
   "execution_count": 18,
   "metadata": {},
   "outputs": [
    {
     "data": {
      "text/plain": [
       "0.07450980392156863"
      ]
     },
     "execution_count": 18,
     "metadata": {},
     "output_type": "execute_result"
    }
   ],
   "source": [
    "test_images[0][567]"
   ]
  },
  {
   "cell_type": "markdown",
   "metadata": {},
   "source": [
    "# Adding new Dataset"
   ]
  },
  {
   "cell_type": "code",
   "execution_count": 19,
   "metadata": {
    "collapsed": true
   },
   "outputs": [],
   "source": [
    "from PIL import ImageFilter,Image\n",
    "import helper"
   ]
  },
  {
   "cell_type": "code",
   "execution_count": 20,
   "metadata": {
    "scrolled": true
   },
   "outputs": [
    {
     "name": "stdout",
     "output_type": "stream",
     "text": [
      "done\n",
      "done\n",
      "done\n",
      "done\n",
      "done\n",
      "done\n",
      "done\n",
      "done\n",
      "done\n",
      "done\n",
      "done\n",
      "done\n",
      "done\n",
      "done\n",
      "done\n",
      "done\n",
      "done\n",
      "done\n",
      "error\n",
      "done\n",
      "done\n",
      "done\n",
      "done\n",
      "done\n",
      "done\n",
      "done\n",
      "done\n",
      "done\n",
      "done\n",
      "done\n",
      "done\n",
      "done\n",
      "done\n",
      "done\n",
      "done\n",
      "done\n",
      "done\n",
      "error\n",
      "done\n",
      "done\n",
      "done\n",
      "done\n",
      "done\n",
      "done\n",
      "done\n",
      "done\n",
      "done\n",
      "done\n",
      "done\n",
      "done\n",
      "done\n",
      "done\n",
      "done\n",
      "done\n",
      "done\n",
      "done\n",
      "error\n",
      "done\n",
      "done\n",
      "done\n",
      "done\n",
      "done\n",
      "done\n",
      "done\n",
      "done\n",
      "done\n",
      "done\n",
      "done\n",
      "done\n",
      "done\n",
      "done\n",
      "done\n",
      "done\n",
      "done\n",
      "done\n",
      "error\n",
      "done\n",
      "done\n",
      "done\n",
      "done\n",
      "done\n",
      "done\n",
      "done\n",
      "done\n",
      "done\n",
      "done\n",
      "done\n",
      "done\n",
      "done\n",
      "done\n",
      "done\n",
      "done\n",
      "done\n",
      "done\n",
      "error\n",
      "done\n",
      "done\n",
      "done\n",
      "done\n",
      "done\n",
      "done\n",
      "done\n",
      "done\n",
      "done\n",
      "done\n",
      "done\n",
      "done\n",
      "done\n",
      "done\n",
      "done\n",
      "done\n",
      "done\n",
      "done\n",
      "error\n",
      "done\n",
      "done\n",
      "done\n",
      "done\n",
      "done\n",
      "done\n",
      "done\n",
      "done\n",
      "done\n",
      "done\n",
      "done\n",
      "done\n",
      "done\n",
      "done\n",
      "done\n",
      "done\n",
      "done\n",
      "done\n",
      "error\n",
      "done\n",
      "done\n",
      "done\n",
      "done\n",
      "done\n",
      "done\n",
      "done\n",
      "done\n",
      "done\n",
      "done\n",
      "done\n",
      "done\n",
      "done\n",
      "done\n",
      "done\n",
      "done\n",
      "done\n",
      "done\n",
      "error\n",
      "done\n",
      "done\n",
      "done\n",
      "done\n",
      "done\n",
      "done\n",
      "done\n",
      "done\n",
      "done\n",
      "done\n",
      "done\n",
      "done\n",
      "done\n",
      "done\n",
      "done\n",
      "done\n",
      "done\n",
      "done\n",
      "error\n",
      "done\n",
      "done\n",
      "done\n",
      "done\n",
      "done\n",
      "done\n",
      "done\n",
      "done\n",
      "done\n",
      "done\n",
      "done\n",
      "done\n",
      "done\n",
      "done\n",
      "done\n",
      "done\n",
      "done\n",
      "done\n",
      "error\n",
      "done\n",
      "done\n",
      "done\n",
      "done\n",
      "done\n",
      "done\n",
      "done\n",
      "done\n",
      "done\n",
      "done\n",
      "done\n",
      "done\n",
      "done\n",
      "done\n",
      "done\n",
      "done\n",
      "done\n",
      "done\n",
      "error\n",
      "done\n",
      "done\n",
      "done\n",
      "done\n",
      "done\n",
      "done\n",
      "done\n",
      "done\n",
      "done\n",
      "done\n",
      "done\n",
      "done\n",
      "done\n",
      "done\n",
      "done\n",
      "done\n",
      "done\n",
      "done\n",
      "error\n",
      "error\n",
      "error\n"
     ]
    }
   ],
   "source": [
    "count=47\n",
    "for k in range(1,15):\n",
    "    for i in range(1,50):\n",
    "        try:\n",
    "            im = Image.open('new_dataset/a{}- ({}).jpg'.format(k,i)).convert('LA')\n",
    "            print(\"done\")\n",
    "        except:\n",
    "            print(\"error\")\n",
    "            break\n",
    "        n_image = helper.normalize_to_emnist(im)\n",
    "        train_images = np.append(train_images,[n_image],axis=0)\n",
    "        test_images = np.append(test_images,[n_image],axis=0)\n",
    "        n_labels = np.append(n_labels,[count])\n",
    "        testLAB = np.append(testLAB,[count])\n",
    "    count+=1\n",
    "    "
   ]
  },
  {
   "cell_type": "code",
   "execution_count": 80,
   "metadata": {},
   "outputs": [
    {
     "name": "stdout",
     "output_type": "stream",
     "text": [
      "113016\n",
      "19016\n",
      "113016\n",
      "19016\n"
     ]
    }
   ],
   "source": [
    "print(len(train_images))\n",
    "print(len(test_images))\n",
    "print(len(n_labels))\n",
    "print(len(testLAB))"
   ]
  },
  {
   "cell_type": "code",
   "execution_count": 21,
   "metadata": {},
   "outputs": [
    {
     "name": "stdout",
     "output_type": "stream",
     "text": [
      "Stored 'n_images' (ndarray)\n",
      "Stored 'n_labels' (ndarray)\n",
      "Stored 'testIM' (ndarray)\n",
      "Stored 'testLAB' (ndarray)\n"
     ]
    }
   ],
   "source": [
    "%store n_images\n",
    "%store n_labels\n",
    "%store testIM \n",
    "%store testLAB"
   ]
  },
  {
   "cell_type": "code",
   "execution_count": 22,
   "metadata": {},
   "outputs": [
    {
     "data": {
      "text/plain": [
       "58"
      ]
     },
     "execution_count": 22,
     "metadata": {},
     "output_type": "execute_result"
    }
   ],
   "source": [
    "n_labels[113015]"
   ]
  },
  {
   "cell_type": "markdown",
   "metadata": {},
   "source": [
    "## One hot encoding of labels"
   ]
  },
  {
   "cell_type": "code",
   "execution_count": 23,
   "metadata": {
    "collapsed": true
   },
   "outputs": [],
   "source": [
    "from sklearn.preprocessing import OneHotEncoder"
   ]
  },
  {
   "cell_type": "code",
   "execution_count": 24,
   "metadata": {},
   "outputs": [
    {
     "data": {
      "text/plain": [
       "45"
      ]
     },
     "execution_count": 24,
     "metadata": {},
     "output_type": "execute_result"
    }
   ],
   "source": [
    "n_labels[0]"
   ]
  },
  {
   "cell_type": "code",
   "execution_count": 25,
   "metadata": {
    "collapsed": true
   },
   "outputs": [],
   "source": [
    "shaped_n_labels  = n_labels.reshape(-1,1)\n",
    "enc = OneHotEncoder()\n",
    "enc.fit(shaped_n_labels)\n",
    "train_labels = enc.transform(shaped_n_labels).toarray()"
   ]
  },
  {
   "cell_type": "code",
   "execution_count": 28,
   "metadata": {},
   "outputs": [
    {
     "data": {
      "text/plain": [
       "array([0., 0., 0., 0., 0., 0., 0., 0., 0., 0., 0., 0., 0., 0., 0., 0., 0.,\n",
       "       0., 0., 0., 0., 0., 0., 0., 0., 0., 0., 0., 0., 0., 0., 0., 0., 0.,\n",
       "       0., 0., 0., 0., 0., 0., 0., 0., 0., 0., 0., 1., 0., 0., 0., 0., 0.,\n",
       "       0., 0., 0., 0., 0., 0., 0., 0.])"
      ]
     },
     "execution_count": 28,
     "metadata": {},
     "output_type": "execute_result"
    }
   ],
   "source": [
    "train_labels[0]"
   ]
  },
  {
   "cell_type": "code",
   "execution_count": 27,
   "metadata": {
    "collapsed": true
   },
   "outputs": [],
   "source": [
    "shaped_testLAB = testLAB.reshape(-1,1)\n",
    "enc.fit(shaped_testLAB)\n",
    "test_labels = enc.transform(shaped_testLAB).toarray()"
   ]
  },
  {
   "cell_type": "markdown",
   "metadata": {},
   "source": [
    "## Functions"
   ]
  },
  {
   "cell_type": "code",
   "execution_count": 29,
   "metadata": {
    "collapsed": true
   },
   "outputs": [],
   "source": [
    "# initialising weights\n",
    "def init_weights(shape):\n",
    "    init_random_dist = tf.truncated_normal(shape,stddev=0.1)\n",
    "    return tf.Variable(init_random_dist)\n",
    "# initialising bias\n",
    "def init_bias(shape):\n",
    "    init_bias_vals = tf.constant(0.1,shape=shape)\n",
    "    return tf.Variable(init_bias_vals)\n",
    "#conv2d\n",
    "def conv2d(x,W):\n",
    "    #x -> [bias,height,width,channels]\n",
    "    #W -> [Filter H,filter W,Channel In,Channel Out]\n",
    "    return tf.nn.conv2d(x,W,strides=[1,1,1,1],padding='SAME')\n",
    "#pooling layer\n",
    "def max_pool_2by2(x):\n",
    "    return tf.nn.max_pool(x,ksize=[1,2,2,1],strides=[1,2,2,1],padding='SAME')\n",
    "#Convolutional layer\n",
    "def convolutional_layer(input_x,shape):\n",
    "    W=init_weights(shape)\n",
    "    bias = init_bias([shape[3]])\n",
    "    return tf.nn.relu(conv2d(input_x,W)+bias)\n",
    "#Fully connected layer\n",
    "def normal_full_layer(input_layer,size):\n",
    "    input_size = int(input_layer.get_shape()[1])\n",
    "    W = init_weights([input_size,size])\n",
    "    bias = init_bias([size])\n",
    "    return tf.matmul(input_layer,W) + bias"
   ]
  },
  {
   "cell_type": "markdown",
   "metadata": {},
   "source": [
    "## Creating model"
   ]
  },
  {
   "cell_type": "code",
   "execution_count": 90,
   "metadata": {
    "collapsed": true
   },
   "outputs": [],
   "source": [
    "#placeholders\n",
    "x = tf.placeholder(tf.float32,shape=[None,784])\n",
    "y_true=tf.placeholder(tf.float32,shape=[None,59])\n",
    "\n",
    "#layers(input)\n",
    "x_image = tf.reshape(x,[-1,28,28,1])\n",
    "\n",
    "#first convolutional layer\n",
    "convo_1 = convolutional_layer(x_image,shape=[5,5,1,32])\n",
    "convo_1_pooling = max_pool_2by2(convo_1)\n",
    "\n",
    "#second convolutional layer\n",
    "convo_2 = convolutional_layer(convo_1_pooling,shape=[5,5,32,64])\n",
    "convo_2_pooling = max_pool_2by2(convo_2)\n",
    "\n",
    "#fully connected layer\n",
    "convo_flat = tf.reshape(convo_2_pooling,[-1,7*7*64])\n",
    "full_layer_one = tf.nn.relu(normal_full_layer(convo_flat,1024))\n",
    "\n"
   ]
  },
  {
   "cell_type": "markdown",
   "metadata": {},
   "source": [
    "# Drop out and Optimization"
   ]
  },
  {
   "cell_type": "code",
   "execution_count": 91,
   "metadata": {
    "collapsed": true
   },
   "outputs": [],
   "source": [
    "#drop out (used to overcome overfitting)\n",
    "\n",
    "hold_prob = tf.placeholder(tf.float32)\n",
    "full_one_dropout = tf.nn.dropout(full_layer_one,keep_prob=hold_prob)\n",
    "\n",
    "y_pred = normal_full_layer(full_one_dropout,59)\n",
    "\n",
    "#Loss Function \n",
    "cross_entropy = tf.reduce_mean(tf.nn.softmax_cross_entropy_with_logits(labels=y_true,logits = y_pred))\n",
    "\n",
    "#optimizer\n",
    "optimizer = tf.train.AdamOptimizer(learning_rate = 0.001)\n",
    "train =optimizer.minimize(cross_entropy)\n",
    "\n",
    "#initialise variables to execute it\n",
    "init = tf.global_variables_initializer()\n",
    "\n",
    "steps = 5000"
   ]
  },
  {
   "cell_type": "markdown",
   "metadata": {},
   "source": [
    "# Training and Saving the model"
   ]
  },
  {
   "cell_type": "code",
   "execution_count": 92,
   "metadata": {
    "collapsed": true
   },
   "outputs": [],
   "source": [
    "saver = tf.train.Saver()"
   ]
  },
  {
   "cell_type": "code",
   "execution_count": 93,
   "metadata": {},
   "outputs": [
    {
     "name": "stdout",
     "output_type": "stream",
     "text": [
      "On step: 0\n",
      "Accuracy obtained at 0 is 0.027555743232369423\n",
      "\n",
      "\n",
      "On step: 100\n",
      "Accuracy obtained at 100 is 0.684949517250061\n",
      "\n",
      "\n",
      "On step: 200\n",
      "Accuracy obtained at 200 is 0.7584139704704285\n",
      "\n",
      "\n",
      "On step: 300\n",
      "Accuracy obtained at 300 is 0.7923327684402466\n",
      "\n",
      "\n",
      "On step: 400\n",
      "Accuracy obtained at 400 is 0.8056373596191406\n",
      "\n",
      "\n",
      "On step: 500\n",
      "Accuracy obtained at 500 is 0.8155237436294556\n",
      "\n",
      "\n",
      "On step: 600\n",
      "Accuracy obtained at 600 is 0.8235695958137512\n",
      "\n",
      "\n",
      "On step: 700\n",
      "Accuracy obtained at 700 is 0.8320361971855164\n",
      "\n",
      "\n",
      "On step: 800\n",
      "Accuracy obtained at 800 is 0.8375052809715271\n",
      "\n",
      "\n",
      "On step: 900\n",
      "Accuracy obtained at 900 is 0.8399768471717834\n",
      "\n",
      "\n",
      "On step: 1000\n",
      "Accuracy obtained at 1000 is 0.8400294780731201\n",
      "\n",
      "\n",
      "On step: 1100\n",
      "Accuracy obtained at 1100 is 0.8467080593109131\n",
      "\n",
      "\n",
      "On step: 1200\n",
      "Accuracy obtained at 1200 is 0.8494426012039185\n",
      "\n",
      "\n",
      "On step: 1300\n",
      "Accuracy obtained at 1300 is 0.8498106598854065\n",
      "\n",
      "\n",
      "On step: 1400\n",
      "Accuracy obtained at 1400 is 0.8532814383506775\n",
      "\n",
      "\n",
      "On step: 1500\n",
      "Accuracy obtained at 1500 is 0.8604333400726318\n",
      "\n",
      "\n",
      "On step: 1600\n",
      "Accuracy obtained at 1600 is 0.8620109558105469\n",
      "\n",
      "\n",
      "On step: 1700\n",
      "Accuracy obtained at 1700 is 0.8627997636795044\n",
      "\n",
      "\n",
      "On step: 1800\n",
      "Accuracy obtained at 1800 is 0.8645351529121399\n",
      "\n",
      "\n",
      "On step: 1900\n",
      "Accuracy obtained at 1900 is 0.8651136159896851\n",
      "\n",
      "\n",
      "On step: 2000\n",
      "Accuracy obtained at 2000 is 0.8653239607810974\n",
      "\n",
      "\n",
      "On step: 2100\n",
      "Accuracy obtained at 2100 is 0.8691102266311646\n",
      "\n",
      "\n",
      "On step: 2200\n",
      "Accuracy obtained at 2200 is 0.8716344237327576\n",
      "\n",
      "\n",
      "On step: 2300\n",
      "Accuracy obtained at 2300 is 0.8711611032485962\n",
      "\n",
      "\n",
      "On step: 2400\n",
      "Accuracy obtained at 2400 is 0.8728439211845398\n",
      "\n",
      "\n",
      "On step: 2500\n",
      "Accuracy obtained at 2500 is 0.8701093792915344\n",
      "\n",
      "\n",
      "On step: 2600\n",
      "Accuracy obtained at 2600 is 0.8742637634277344\n",
      "\n",
      "\n",
      "On step: 2700\n",
      "Accuracy obtained at 2700 is 0.8766301870346069\n",
      "\n",
      "\n",
      "On step: 2800\n",
      "Accuracy obtained at 2800 is 0.8786811232566833\n",
      "\n",
      "\n",
      "On step: 2900\n",
      "Accuracy obtained at 2900 is 0.8715818524360657\n",
      "\n",
      "\n",
      "On step: 3000\n",
      "Accuracy obtained at 3000 is 0.8729491233825684\n",
      "\n",
      "\n",
      "On step: 3100\n",
      "Accuracy obtained at 3100 is 0.8722128868103027\n",
      "\n",
      "\n",
      "On step: 3200\n",
      "Accuracy obtained at 3200 is 0.8771035075187683\n",
      "\n",
      "\n",
      "On step: 3300\n",
      "Accuracy obtained at 3300 is 0.8767353892326355\n",
      "\n",
      "\n",
      "On step: 3400\n",
      "Accuracy obtained at 3400 is 0.8771035075187683\n",
      "\n",
      "\n",
      "On step: 3500\n",
      "Accuracy obtained at 3500 is 0.8785233497619629\n",
      "\n",
      "\n",
      "On step: 3600\n",
      "Accuracy obtained at 3600 is 0.8806794285774231\n",
      "\n",
      "\n",
      "On step: 3700\n",
      "Accuracy obtained at 3700 is 0.8796277046203613\n",
      "\n",
      "\n",
      "On step: 3800\n",
      "Accuracy obtained at 3800 is 0.8808372020721436\n",
      "\n",
      "\n",
      "On step: 3900\n",
      "Accuracy obtained at 3900 is 0.8767879605293274\n",
      "\n",
      "\n",
      "On step: 4000\n",
      "Accuracy obtained at 4000 is 0.8816260099411011\n",
      "\n",
      "\n",
      "On step: 4100\n",
      "Accuracy obtained at 4100 is 0.8778923153877258\n",
      "\n",
      "\n",
      "On step: 4200\n",
      "Accuracy obtained at 4200 is 0.8755258917808533\n",
      "\n",
      "\n",
      "On step: 4300\n",
      "Accuracy obtained at 4300 is 0.8816260099411011\n",
      "\n",
      "\n",
      "On step: 4400\n",
      "Accuracy obtained at 4400 is 0.8833087682723999\n",
      "\n",
      "\n",
      "On step: 4500\n",
      "Accuracy obtained at 4500 is 0.8830458521842957\n",
      "\n",
      "\n",
      "On step: 4600\n",
      "Accuracy obtained at 4600 is 0.8840975761413574\n",
      "\n",
      "\n",
      "On step: 4700\n",
      "Accuracy obtained at 4700 is 0.8802061676979065\n",
      "\n",
      "\n",
      "On step: 4800\n",
      "Accuracy obtained at 4800 is 0.8822570443153381\n",
      "\n",
      "\n",
      "On step: 4900\n",
      "Accuracy obtained at 4900 is 0.8827829360961914\n",
      "\n",
      "\n"
     ]
    }
   ],
   "source": [
    "start = time.time()\n",
    "with tf.Session() as sess:\n",
    "    sess.run(init)\n",
    "    batch_size = 120\n",
    "    for i in range(steps):\n",
    "        rand_ind = np.random.randint(len(train_images),size=batch_size)\n",
    "        feed = {x:train_images[rand_ind],y_true:train_labels[rand_ind],hold_prob:0.5}\n",
    "        sess.run(train,feed_dict=feed)\n",
    "        \n",
    "        if i%100 == 0:\n",
    "            print(\"On step: {}\".format(i))\n",
    "            match = tf.equal(tf.argmax(y_pred,1),tf.argmax(y_true,1))\n",
    "            acc = tf.reduce_mean(tf.cast(match,tf.float32))\n",
    "            print(\"Accuracy obtained at {x} is {y}\".format(x=i,y=sess.run(acc,feed_dict={x:test_images,y_true:test_labels,hold_prob:1.0})))\n",
    "            print('\\n')\n",
    "    saver.save(sess,'model/cnn_model_1_with_tamil.ckpt')\n",
    "end = time.time()\n",
    "        "
   ]
  },
  {
   "cell_type": "markdown",
   "metadata": {},
   "source": [
    "# Predicting the input image"
   ]
  },
  {
   "cell_type": "code",
   "execution_count": 22,
   "metadata": {
    "collapsed": true
   },
   "outputs": [],
   "source": [
    "from sklearn.metrics import log_loss"
   ]
  },
  {
   "cell_type": "code",
   "execution_count": 126,
   "metadata": {
    "collapsed": true
   },
   "outputs": [],
   "source": [
    "%store -r n_image"
   ]
  },
  {
   "cell_type": "code",
   "execution_count": 127,
   "metadata": {},
   "outputs": [
    {
     "name": "stdout",
     "output_type": "stream",
     "text": [
      "INFO:tensorflow:Restoring parameters from model/cnn_model_1_with_tamil.ckpt\n"
     ]
    }
   ],
   "source": [
    "with tf.Session() as sess:\n",
    "        sess.run(init)\n",
    "        saver.restore(sess, \"model/cnn_model_1_with_tamil.ckpt\")\n",
    "       \n",
    "        prediction=tf.argmax(y_pred,1)\n",
    "        var = prediction.eval(feed_dict={x: [n_image],y_true:train_labels,hold_prob: 0.5}, session=sess)\n"
   ]
  },
  {
   "cell_type": "code",
   "execution_count": 128,
   "metadata": {
    "collapsed": true
   },
   "outputs": [],
   "source": [
    "labels_dict ={0:0,1:1,2:2,3:3,4:4,5:5,6:6,7:7,8:8,9:9,10:'A',11:'B',12:'C',13:'D',14:'E',15:'F',16:'G',17:'H',18:'I',19:'J',20:'K',21:'l',22:'M',23:'N',24:'O',25:'P',26:'Q',27:'R',28:'S',29:'T',30:'u',31:'V',32:'W',33:'X',34:'Y',35:'Z',36:'a',37:'b',38:'d',39:'e',40:'f',41:'g',42:'h',43:'n',44:'q',45:'r',46:'t',47:'அ',48:'ஆ'}\n",
    "labels_dict[49]=\"இ\"\n",
    "labels_dict[50]='ஈ'\n",
    "labels_dict[51]='உ'\n",
    "labels_dict[52]='ஊ'\n",
    "labels_dict[53]='எ'\n",
    "labels_dict[54]='ஏ'\n",
    "labels_dict[55]='ஐ'\n",
    "labels_dict[56]='ஒ'\n",
    "labels_dict[57]='ஓ'\n",
    "labels_dict[58]='ஔ'"
   ]
  },
  {
   "cell_type": "code",
   "execution_count": 129,
   "metadata": {},
   "outputs": [
    {
     "name": "stdout",
     "output_type": "stream",
     "text": [
      "The predicted character is : \"ஏ\"\n"
     ]
    }
   ],
   "source": [
    "print('The predicted character is : \"{}\"'.format(labels_dict[var[0]]))   "
   ]
  },
  {
   "cell_type": "code",
   "execution_count": 124,
   "metadata": {},
   "outputs": [
    {
     "data": {
      "text/plain": [
       "(112800, 784)"
      ]
     },
     "execution_count": 124,
     "metadata": {},
     "output_type": "execute_result"
    }
   ],
   "source": [
    "n_images.shape"
   ]
  },
  {
   "cell_type": "code",
   "execution_count": 2,
   "metadata": {
    "collapsed": true
   },
   "outputs": [],
   "source": [
    "%store -r n_images\n",
    "%store -r n_labels\n",
    "%store -r testIM \n",
    "%store -r testLAB"
   ]
  },
  {
   "cell_type": "code",
   "execution_count": null,
   "metadata": {
    "collapsed": true
   },
   "outputs": [],
   "source": []
  }
 ],
 "metadata": {
  "kernelspec": {
   "display_name": "Python 3",
   "language": "python",
   "name": "python3"
  },
  "language_info": {
   "codemirror_mode": {
    "name": "ipython",
    "version": 3
   },
   "file_extension": ".py",
   "mimetype": "text/x-python",
   "name": "python",
   "nbconvert_exporter": "python",
   "pygments_lexer": "ipython3",
   "version": "3.6.3"
  }
 },
 "nbformat": 4,
 "nbformat_minor": 2
}
